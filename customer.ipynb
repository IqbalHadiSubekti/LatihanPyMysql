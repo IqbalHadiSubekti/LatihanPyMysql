{
 "cells": [
  {
   "cell_type": "code",
   "execution_count": null,
   "id": "c0958b15",
   "metadata": {},
   "outputs": [],
   "source": [
    "import pandas as pd\n",
    "import pymysql"
   ]
  },
  {
   "cell_type": "code",
   "execution_count": null,
   "id": "b46d2c5e",
   "metadata": {},
   "outputs": [],
   "source": [
    "conn = pymysql.connect(\n",
    "    host='localhost',\n",
    "    user='root',\n",
    "    password=\"\",\n",
    "    db='analisadata',\n",
    "    )"
   ]
  },
  {
   "cell_type": "code",
   "execution_count": null,
   "id": "64f9212b",
   "metadata": {},
   "outputs": [],
   "source": [
    "df = pd.read_sql_query(\"SELECT * FROM customer\",conn)\n",
    "df"
   ]
  },
  {
   "cell_type": "code",
   "execution_count": null,
   "id": "f6f0e871",
   "metadata": {},
   "outputs": [],
   "source": [
    "df2 = pd.read_sql_query(\"SELECT Order_ID,Order_Date FROM customers\",conn)\n",
    "df2"
   ]
  },
  {
   "cell_type": "code",
   "execution_count": null,
   "id": "f18ab7a6",
   "metadata": {},
   "outputs": [],
   "source": [
    "df3 = pd.read_sql_query(\"SELECT customer.Customer_Name FROM customer INNER JOIN customers ON customer.Customer_ID = customers.Customer_ID where customers.Order_Date = '2017-11-24'\",conn)\n",
    "df3"
   ]
  },
  {
   "cell_type": "code",
   "execution_count": null,
   "id": "2c066f35",
   "metadata": {},
   "outputs": [],
   "source": [
    "df4 = pd.read_sql_query(\"SELECT COUNT(*) FROM customers where Order_Date = '2018-10-25'\",conn)\n",
    "df4"
   ]
  },
  {
   "cell_type": "code",
   "execution_count": null,
   "id": "dbdc7a4c",
   "metadata": {},
   "outputs": [],
   "source": [
    "df5 = pd.read_sql_query(\"SELECT COUNT(Quantity) FROM customers where Order_Date >= '2018-01-31' AND Order_Date <= '2019-09-18' \",conn)\n",
    "df5"
   ]
  },
  {
   "cell_type": "code",
   "execution_count": null,
   "id": "256ee0b1",
   "metadata": {},
   "outputs": [],
   "source": []
  }
 ],
 "metadata": {
  "kernelspec": {
   "display_name": "Python 3",
   "language": "python",
   "name": "python3"
  },
  "language_info": {
   "codemirror_mode": {
    "name": "ipython",
    "version": 3
   },
   "file_extension": ".py",
   "mimetype": "text/x-python",
   "name": "python",
   "nbconvert_exporter": "python",
   "pygments_lexer": "ipython3",
   "version": "3.7.8"
  }
 },
 "nbformat": 4,
 "nbformat_minor": 5
}
